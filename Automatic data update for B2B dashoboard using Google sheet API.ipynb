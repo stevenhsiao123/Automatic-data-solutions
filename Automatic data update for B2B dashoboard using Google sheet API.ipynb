{
 "cells": [
  {
   "attachments": {},
   "cell_type": "markdown",
   "id": "e2c1b45e",
   "metadata": {},
   "source": [
    "## Project overview\n",
    "Working as an analyst in the SaaS company, we need to regularly compare the product usage data for the previous two months to identify if there's an increase od decrease in client's product uasge.\n",
    "\n",
    "As a result, I created an automatic data flow to extract product usage data from database as well as clean and add data on the Google Sheet used for looker studio through Google Sheets API, making sure that data is maintained only for the previous two months for comparison."
   ]
  },
  {
   "cell_type": "code",
   "execution_count": 4,
   "id": "8eea7b06",
   "metadata": {},
   "outputs": [],
   "source": [
    "from google.oauth2.service_account import Credentials \n",
    "import gspread\n",
    "import pyodbc                     \n",
    "import numpy as np\n",
    "import pandas as pd\n",
    "import xlsxwriter\n",
    "import datetime as dt\n",
    "from dateutil.relativedelta import relativedelta\n",
    "from pprint import pprint\n",
    "from googleapiclient import discovery"
   ]
  },
  {
   "cell_type": "markdown",
   "id": "c80ef381",
   "metadata": {},
   "source": [
    "##### 1. Since we want to build the dashboard that allows us to compare the performance between previous two months, we need to define the start date and the end date for data extraction from database. "
   ]
  },
  {
   "cell_type": "code",
   "execution_count": 5,
   "id": "6d7150e7",
   "metadata": {},
   "outputs": [],
   "source": [
    "start_time_yearmonth = (dt.datetime.today() - relativedelta(months=2)).strftime('%Y-%m')\n",
    "end_time_yearmonth = dt.datetime.today().strftime('%Y-%m') # this month\n",
    "start_time = '%s-01' % start_time_yearmonth\n",
    "end_time = '%s-01' % end_time_yearmonth"
   ]
  },
  {
   "cell_type": "markdown",
   "id": "0aa1bd63",
   "metadata": {},
   "source": [
    "##### 2. Get the latest clients information from Google Sheet where the information is stored."
   ]
  },
  {
   "cell_type": "code",
   "execution_count": null,
   "id": "3ecdba78",
   "metadata": {},
   "outputs": [],
   "source": [
    "##### 讀帳號資料\n",
    "scope = ['https://www.googleapis.com/auth/spreadsheets']  # Authorization Scopes\n",
    "creds = Credentials.from_service_account_file('Your token', scopes=scope)  # Creating google api credentials\n",
    "gs = gspread.authorize(creds)  # Authentication\n",
    "sheet_url = 'Your google sheet url'\n",
    "sheet = gs.open_by_url(sheet_url)  # Open spreadsheet\n",
    "worksheet = sheet.worksheet('worksheet_name')  # Open worksheet\n",
    "guest_name_raw = pd.DataFrame(worksheet.get_all_records())\n",
    "guest_name_raw"
   ]
  },
  {
   "cell_type": "markdown",
   "id": "1e95c138",
   "metadata": {},
   "source": [
    "##### 3. Join all client's service account name from column into a string, which allows us to quickly use SQL IN function to pull out data at once."
   ]
  },
  {
   "cell_type": "code",
   "execution_count": null,
   "id": "e2d70539",
   "metadata": {},
   "outputs": [],
   "source": [
    "##### Turn account_name into string for sql in function\n",
    "acc_txt = ''\n",
    "for i in range(len(guest_name_raw['account_name'])):\n",
    "    if i == 0:\n",
    "        acc_txt += '\\'%s\\'' % guest_name_raw.loc[i, 'account_name']\n",
    "    else:\n",
    "        acc_txt += ',\\'%s\\'' % guest_name_raw.loc[i, 'account_name']\n",
    "acc_txt        \n"
   ]
  },
  {
   "cell_type": "markdown",
   "id": "6be72de2",
   "metadata": {},
   "source": [
    "##### 4. Log into database using Python and run SQL for different table"
   ]
  },
  {
   "cell_type": "code",
   "execution_count": null,
   "id": "a1b5b713",
   "metadata": {},
   "outputs": [],
   "source": [
    "##### Connect to database\n",
    "conn = pyodbc.connect('Driver={SQL Server};Server=XXX.XX.XX.X;Database=XXX;UID=XX;PWD=XXXXXX')\n",
    "print('Successfully connect to database')"
   ]
  },
  {
   "cell_type": "code",
   "execution_count": 31,
   "id": "d0d43c66",
   "metadata": {},
   "outputs": [],
   "source": [
    "sql_1 = \"\"\"SELECT *\n",
    "            FROM TABLE_1\n",
    "            WHERE column_A in (%s)  --Enter service accont \n",
    "            AND column_B!='XXX'  -- Exclude specific column with specific value. For example, filter out internal value.\n",
    "            AND time >= '%s' --Start date\n",
    "            AND time < '%s' --End date\n",
    "            ORDER by time ASC;  --Sort from oldest to newest \"\"\" % (acc_txt, start_time, end_time)\n",
    "\n"
   ]
  },
  {
   "cell_type": "code",
   "execution_count": null,
   "id": "a89b18f8",
   "metadata": {},
   "outputs": [],
   "source": [
    "sql_2 = \"\"\"SELECT *\n",
    "            FROM TABLE_2\n",
    "            WHERE column_A in (%s)  --Enter service accont\n",
    "            AND time >= '%s'\n",
    "            AND time < '%s'\n",
    "            AND status ='success'\n",
    "            ORDER by time ASC;  --Sort from oldest to newest;\"\"\" % (acc_txt, start_time, end_time)"
   ]
  },
  {
   "cell_type": "code",
   "execution_count": 35,
   "id": "49225e99",
   "metadata": {},
   "outputs": [],
   "source": [
    "sql_3 = \"\"\"SELECT a.column_A ,b.* FROM TABLE_3 a inner join TABLE_4 b ON a.column = b.column\n",
    "           WHERE a.column_A in (%s)\n",
    "           AND b.time >= '%s'\n",
    "           AND b.time < '%s'\"\"\" % (acc_txt, start_time, end_time)\n"
   ]
  },
  {
   "cell_type": "code",
   "execution_count": null,
   "id": "af009e22",
   "metadata": {},
   "outputs": [],
   "source": [
    "print('>>> Extracting search history...', end='')\n",
    "sys.stdout.flush()\n",
    "search = pd.read_sql(sql_1, conn)\n",
    "search.reset_index(drop=True, inplace=True)\n",
    "print('Done!')\n",
    "\n",
    "print('>>> Extracting login history...', end='')\n",
    "sys.stdout.flush()\n",
    "login = pd.read_sql(sql_2, conn)\n",
    "print('Done!')\n",
    "\n",
    "print('>>> Extracting Topic edit history...', end='')\n",
    "sys.stdout.flush()\n",
    "changetopic = pd.read_sql(sql_3, conn)\n",
    "print('Done!')\n"
   ]
  },
  {
   "cell_type": "markdown",
   "id": "32b62e11",
   "metadata": {},
   "source": [
    "##### 5. Data cleaning and data processing"
   ]
  },
  {
   "cell_type": "code",
   "execution_count": 61,
   "id": "61c7d8ab",
   "metadata": {},
   "outputs": [],
   "source": [
    "sys.stdout.flush()\n",
    "search = search.merge(log_name, how='inner', left_on='module_name', right_on='English_function_name')   #Replace english function name with Chinese function name\n",
    "search.drop('English_function_name', axis=1, inplace=True)\n",
    "search['time'] = pd.to_datetime(search['time'])\n",
    "print('Done!')\n",
    "\n",
    "print('>>> Processing login history ...', end='')\n",
    "sys.stdout.flush()\n",
    "login.columns = ['col1', 'col2', 'col3', 'col4', 'col5', 'col6'] #Reorder and select needed columns\n",
    "print('Done!')\n",
    "print('Done!')"
   ]
  },
  {
   "cell_type": "markdown",
   "id": "05a5bf25",
   "metadata": {},
   "source": [
    "##### 6. Create one new columns to identify data for last 2 months respectively and the other one to distinguish successful and failed search request "
   ]
  },
  {
   "cell_type": "code",
   "execution_count": null,
   "id": "c255820a",
   "metadata": {},
   "outputs": [],
   "source": [
    "# Add column to distinguish data for two different month\n",
    "search['interval'] = np.where(query['search_time'].dt.month == last_month, 1, 2) \n",
    "login['interval'] = np.where(login['time'].dt.month == last_month, 1, 2)\n",
    "changetopic['interval'] = np.where(changetopic['search_time'].dt.month == last_month, 1, 2)\n",
    "\n",
    "# Add column to distinguish successful and failed search request\n",
    "search['successful'] = np.where((search['error_code'] != X) , 'Y', 'N')\n",
    "\n",
    "print('Data processing finished')"
   ]
  },
  {
   "cell_type": "markdown",
   "id": "6ed2a400",
   "metadata": {},
   "source": [
    "##### 7. Calculate TP90 time based on search query and create new column for data visualization purpose "
   ]
  },
  {
   "cell_type": "code",
   "execution_count": null,
   "id": "4b94d902",
   "metadata": {},
   "outputs": [],
   "source": [
    "search['search_time'] = search['search_time'].dt.strftime('%Y-%m-%d %H:%M:%S')\n",
    "search['uresponse_time'] = search['response_time'].dt.strftime('%Y-%m-%d %H:%M:%S')\n",
    "search['request_time']= (search['response_time']-search['create_time']).dt.total_seconds()\n",
    "search['searchtime_TP90']=search['request_time'].quantile(0.9)\n",
    "search = search.fillna('0')"
   ]
  },
  {
   "cell_type": "markdown",
   "id": "9a2d6f01",
   "metadata": {},
   "source": [
    "##### 8. Using Google Sheet API to automatically clean and add data on different worksheet on Google Sheet used for looker studio to make sure that the sheet only stores data for two months period"
   ]
  },
  {
   "cell_type": "code",
   "execution_count": 11,
   "id": "8e12d64a",
   "metadata": {},
   "outputs": [],
   "source": [
    "credentials = creds\n",
    "service = discovery.build('sheets', 'v4', credentials=credentials)"
   ]
  },
  {
   "cell_type": "code",
   "execution_count": 68,
   "id": "7b55127e",
   "metadata": {},
   "outputs": [],
   "source": [
    "spreadsheet_id = '1JpaEaUmgbE-iis_RieYTnn48kOMsSMri4AFbqnmwAEY'\n",
    "sheetId = '1099986967'\n",
    "range_1=\"first_worksheet!A2:Y\"#keep first row(column name)"
   ]
  },
  {
   "cell_type": "code",
   "execution_count": 45,
   "id": "7815488c",
   "metadata": {},
   "outputs": [],
   "source": [
    "#Remove data for last month on first worksheet of Googlesheet used for Lookerstudio \n",
    "request = service.spreadsheets().values().clear(spreadsheetId=spreadsheet_id, range=range_)\n",
    "response = request.execute()"
   ]
  },
  {
   "cell_type": "code",
   "execution_count": null,
   "id": "4456177e",
   "metadata": {
    "scrolled": false
   },
   "outputs": [],
   "source": [
    "#Add processed data for this month on first worksheet of Googlesheet used for Lookerstudio \n",
    "sheet.worksheet('first_worksheet_name').update('A2:Y',search.values.tolist())"
   ]
  },
  {
   "cell_type": "code",
   "execution_count": 47,
   "id": "011e333a",
   "metadata": {},
   "outputs": [],
   "source": [
    "spreadsheet_id = '1JpaEaUmgbE-iis_RieYTnn48kOMsSMri4AFbqnmwAEY'\n",
    "sheetId = '1321373929'\n",
    "range_2=\"second_worksheet!A2:W\""
   ]
  },
  {
   "cell_type": "code",
   "execution_count": 48,
   "id": "d2a1d07f",
   "metadata": {},
   "outputs": [],
   "source": [
    "#Remove data for last month on second worksheet on Googlesheet used for Lookerstudio \n",
    "request2 = service.spreadsheets().values().clear(spreadsheetId=spreadsheet_id, range=range_2)\n",
    "response2 = request2.execute()"
   ]
  },
  {
   "cell_type": "code",
   "execution_count": null,
   "id": "bd2e6d81",
   "metadata": {},
   "outputs": [],
   "source": [
    "#Add processed data for this month on second worksheet of Googlesheet used for Lookerstudio \n",
    "sheet.worksheet('second_worksheet_name').update('A2:G',login.values.tolist())"
   ]
  },
  {
   "cell_type": "code",
   "execution_count": 12,
   "id": "b08ced1b",
   "metadata": {},
   "outputs": [],
   "source": [
    "spreadsheet_id = '1JpaEaUmgbE-iis_RieYTnn48kOMsSMri4AFbqnmwAEY'\n",
    "sheetId = '1321373929'\n",
    "range_3=\"third_worksheet!A2:P\""
   ]
  },
  {
   "cell_type": "code",
   "execution_count": 13,
   "id": "18f11a65",
   "metadata": {},
   "outputs": [],
   "source": [
    "#Remove data for last month on third worksheet on Googlesheet used for Lookerstudio \n",
    "request3 = service.spreadsheets().values().clear(spreadsheetId=spreadsheet_id, range=range_3)\n",
    "response3 = request3.execute()"
   ]
  },
  {
   "cell_type": "code",
   "execution_count": null,
   "id": "9750a7f0",
   "metadata": {},
   "outputs": [],
   "source": [
    "#Add processed data for this month on third worksheet of Googlesheet used for Lookerstudio \n",
    "sheet.worksheet('third_worksheet').update('A2:P',changetopic.values.tolist())"
   ]
  },
  {
   "cell_type": "code",
   "execution_count": null,
   "id": "1edaea2a",
   "metadata": {},
   "outputs": [],
   "source": []
  }
 ],
 "metadata": {
  "kernelspec": {
   "display_name": "Python 3 (ipykernel)",
   "language": "python",
   "name": "python3"
  },
  "language_info": {
   "codemirror_mode": {
    "name": "ipython",
    "version": 3
   },
   "file_extension": ".py",
   "mimetype": "text/x-python",
   "name": "python",
   "nbconvert_exporter": "python",
   "pygments_lexer": "ipython3",
   "version": "3.11.5"
  }
 },
 "nbformat": 4,
 "nbformat_minor": 5
}
